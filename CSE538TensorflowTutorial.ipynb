{
  "nbformat": 4,
  "nbformat_minor": 0,
  "metadata": {
    "kernelspec": {
      "display_name": "Python 2",
      "language": "python",
      "name": "python2"
    },
    "language_info": {
      "codemirror_mode": {
        "name": "ipython",
        "version": 2
      },
      "file_extension": ".py",
      "mimetype": "text/x-python",
      "name": "python",
      "nbconvert_exporter": "python",
      "pygments_lexer": "ipython2",
      "version": "2.7.10"
    },
    "colab": {
      "name": "CSE538TensorflowTutorial.ipynb",
      "version": "0.3.2",
      "provenance": [],
      "toc_visible": true,
      "include_colab_link": true
    }
  },
  "cells": [
    {
      "cell_type": "markdown",
      "metadata": {
        "id": "view-in-github",
        "colab_type": "text"
      },
      "source": [
        "<a href=\"https://colab.research.google.com/github/abha-m/colab_tensorflow_tutorial/blob/master/CSE538TensorflowTutorial.ipynb\" target=\"_parent\"><img src=\"https://colab.research.google.com/assets/colab-badge.svg\" alt=\"Open In Colab\"/></a>"
      ]
    },
    {
      "cell_type": "markdown",
      "metadata": {
        "id": "_Pceu2TeVcRj",
        "colab_type": "text"
      },
      "source": [
        "# About this tutorial\n",
        "\n",
        "This introductory tutorial to TensorFlow will give an overview of some of the basic concepts of TensorFlow in Python. It would help you to get started with this framework and do your assignments! We will discuss the concept behind Tensorflow, basic operatios, and simple models only. Most of our dicussion would be related to the low level APIs.\n",
        "\n",
        "Author,\n",
        "\n",
        "Leena Shekhar, Stony Brook University"
      ]
    },
    {
      "cell_type": "code",
      "metadata": {
        "id": "3Zg7jLvYVcRk",
        "colab_type": "code",
        "colab": {}
      },
      "source": [
        "# imports\n",
        "from tensorflow.examples.tutorials.mnist import input_data\n",
        "from IPython.display import HTML, Image\n",
        "import tensorflow as tf\n",
        "import numpy as np\n",
        "import time\n",
        "import os"
      ],
      "execution_count": 0,
      "outputs": []
    },
    {
      "cell_type": "code",
      "metadata": {
        "id": "ycHYkbXdVcRn",
        "colab_type": "code",
        "outputId": "e4dd1a28-ee47-4881-db5b-c0e53107af51",
        "colab": {
          "base_uri": "https://localhost:8080/",
          "height": 71
        }
      },
      "source": [
        "hello = tf.constant('Hello, CSE 538!')\n",
        "print(hello)\n",
        "print(\"Uh oh!\")\n",
        "sess = tf.Session()\n",
        "print(sess.run(hello))\n",
        "sess.close()"
      ],
      "execution_count": 0,
      "outputs": [
        {
          "output_type": "stream",
          "text": [
            "Tensor(\"Const:0\", shape=(), dtype=string)\n",
            "Uh oh!\n",
            "Hello, CSE 538!\n"
          ],
          "name": "stdout"
        }
      ]
    },
    {
      "cell_type": "code",
      "metadata": {
        "id": "gX35L9S6DbxT",
        "colab_type": "code",
        "outputId": "963acfb0-0587-4210-fe7f-5e5bfff5e6a2",
        "colab": {
          "base_uri": "https://localhost:8080/",
          "height": 127
        }
      },
      "source": [
        "from google.colab import drive\n",
        "drive.mount('/content/drive')"
      ],
      "execution_count": 0,
      "outputs": [
        {
          "output_type": "stream",
          "text": [
            "Go to this URL in a browser: https://accounts.google.com/o/oauth2/auth?client_id=947318989803-6bn6qk8qdgf4n4g3pfee6491hc0brc4i.apps.googleusercontent.com&redirect_uri=urn%3Aietf%3Awg%3Aoauth%3A2.0%3Aoob&scope=email%20https%3A%2F%2Fwww.googleapis.com%2Fauth%2Fdocs.test%20https%3A%2F%2Fwww.googleapis.com%2Fauth%2Fdrive%20https%3A%2F%2Fwww.googleapis.com%2Fauth%2Fdrive.photos.readonly%20https%3A%2F%2Fwww.googleapis.com%2Fauth%2Fpeopleapi.readonly&response_type=code\n",
            "\n",
            "Enter your authorization code:\n",
            "··········\n",
            "Mounted at /content/drive\n"
          ],
          "name": "stdout"
        }
      ]
    },
    {
      "cell_type": "markdown",
      "metadata": {
        "id": "lk3OV27PVcRr",
        "colab_type": "text"
      },
      "source": [
        "## Tensorflow Overview"
      ]
    },
    {
      "cell_type": "markdown",
      "metadata": {
        "id": "pLlEP59nVcRr",
        "colab_type": "text"
      },
      "source": [
        "#### What is Tensorflow?\n",
        "\n",
        "1. It is an open source software by Google, designed to allow efficient computation of data flow graphs, is especially suited to deep learning tasks.  \n",
        "\n",
        "2. It is designed to be executed on a single or multiple CPUs and GPUs, making it a good option for complex deep learning tasks.\n",
        "\n",
        "3. Nodes in the graph represent mathematical operations, while the graph edges represent the multidimensional data arrays (tensors) communicated between them."
      ]
    },
    {
      "cell_type": "markdown",
      "metadata": {
        "id": "EaPK0GoXVcRs",
        "colab_type": "text"
      },
      "source": [
        "## Setup & Installation"
      ]
    },
    {
      "cell_type": "markdown",
      "metadata": {
        "id": "hnqoOeOQVcRt",
        "colab_type": "text"
      },
      "source": [
        "Installating Tensorflow is easy and well explained here: https://www.tensorflow.org/install/."
      ]
    },
    {
      "cell_type": "markdown",
      "metadata": {
        "id": "hTdgiqHAVcRu",
        "colab_type": "text"
      },
      "source": [
        "## Tensorflow Graph & Session\n",
        "\n",
        "Note: This is an important section as people usually get confused over the rules of tf.Graph and tf.Session so understand this carefuly."
      ]
    },
    {
      "cell_type": "markdown",
      "metadata": {
        "id": "uQIEpIXoVcRu",
        "colab_type": "text"
      },
      "source": [
        "#### What is a Tensor?\n",
        "\n",
        "An n-dimensional matrix. \n",
        "\n",
        "1. 0-d tensor: scalar/number\n",
        "2. 1-d tensor: vector\n",
        "3. 2-d tensor: matrix and so on ..."
      ]
    },
    {
      "cell_type": "markdown",
      "metadata": {
        "id": "3u1AqjeWVcRv",
        "colab_type": "text"
      },
      "source": [
        "#### What is a dataflow graph?\n",
        "\n",
        "TensorFlow uses a dataflow graph to represent all the computation in terms of the dependencies between individual operations. \n",
        "\n",
        "This leads to a low-level programming model in which you first define the dataflow graph, then create a TensorFlow session to run parts of the graph across a set of devices (local and remote). \n",
        "\n",
        "#### Why a dataflow grap?\n",
        "\n",
        "Consider the following expression a=(b+c)∗(c+2). We can break this function down into the following components:\n",
        "\n",
        "d= b + c\n",
        "\n",
        "e = c + 2\n",
        "\n",
        "a = d * e\n",
        "\n",
        "Now these operations can be represented graphically as:"
      ]
    },
    {
      "cell_type": "code",
      "metadata": {
        "id": "SBa35UclVcRw",
        "colab_type": "code",
        "outputId": "7ec5309a-064d-4ae5-ad11-e6ed9ed33fd0",
        "colab": {
          "base_uri": "https://localhost:8080/",
          "height": 321
        }
      },
      "source": [
        "Image(filename=\"images/Drawing.jpeg\")"
      ],
      "execution_count": 0,
      "outputs": [
        {
          "output_type": "error",
          "ename": "IOError",
          "evalue": "ignored",
          "traceback": [
            "\u001b[0;31m\u001b[0m",
            "\u001b[0;31mIOError\u001b[0mTraceback (most recent call last)",
            "\u001b[0;32m<ipython-input-6-fd47d0de3310>\u001b[0m in \u001b[0;36m<module>\u001b[0;34m()\u001b[0m\n\u001b[0;32m----> 1\u001b[0;31m \u001b[0mImage\u001b[0m\u001b[0;34m(\u001b[0m\u001b[0mfilename\u001b[0m\u001b[0;34m=\u001b[0m\u001b[0;34m\"images/Drawing.jpeg\"\u001b[0m\u001b[0;34m)\u001b[0m\u001b[0;34m\u001b[0m\u001b[0;34m\u001b[0m\u001b[0m\n\u001b[0m",
            "\u001b[0;32m/usr/local/lib/python2.7/dist-packages/IPython/core/display.pyc\u001b[0m in \u001b[0;36m__init__\u001b[0;34m(self, data, url, filename, format, embed, width, height, retina, unconfined, metadata)\u001b[0m\n\u001b[1;32m   1019\u001b[0m         \u001b[0mself\u001b[0m\u001b[0;34m.\u001b[0m\u001b[0munconfined\u001b[0m \u001b[0;34m=\u001b[0m \u001b[0munconfined\u001b[0m\u001b[0;34m\u001b[0m\u001b[0;34m\u001b[0m\u001b[0m\n\u001b[1;32m   1020\u001b[0m         \u001b[0mself\u001b[0m\u001b[0;34m.\u001b[0m\u001b[0mmetadata\u001b[0m \u001b[0;34m=\u001b[0m \u001b[0mmetadata\u001b[0m\u001b[0;34m\u001b[0m\u001b[0;34m\u001b[0m\u001b[0m\n\u001b[0;32m-> 1021\u001b[0;31m         \u001b[0msuper\u001b[0m\u001b[0;34m(\u001b[0m\u001b[0mImage\u001b[0m\u001b[0;34m,\u001b[0m \u001b[0mself\u001b[0m\u001b[0;34m)\u001b[0m\u001b[0;34m.\u001b[0m\u001b[0m__init__\u001b[0m\u001b[0;34m(\u001b[0m\u001b[0mdata\u001b[0m\u001b[0;34m=\u001b[0m\u001b[0mdata\u001b[0m\u001b[0;34m,\u001b[0m \u001b[0murl\u001b[0m\u001b[0;34m=\u001b[0m\u001b[0murl\u001b[0m\u001b[0;34m,\u001b[0m \u001b[0mfilename\u001b[0m\u001b[0;34m=\u001b[0m\u001b[0mfilename\u001b[0m\u001b[0;34m)\u001b[0m\u001b[0;34m\u001b[0m\u001b[0;34m\u001b[0m\u001b[0m\n\u001b[0m\u001b[1;32m   1022\u001b[0m \u001b[0;34m\u001b[0m\u001b[0m\n\u001b[1;32m   1023\u001b[0m         \u001b[0;32mif\u001b[0m \u001b[0mretina\u001b[0m\u001b[0;34m:\u001b[0m\u001b[0;34m\u001b[0m\u001b[0;34m\u001b[0m\u001b[0m\n",
            "\u001b[0;32m/usr/local/lib/python2.7/dist-packages/IPython/core/display.pyc\u001b[0m in \u001b[0;36m__init__\u001b[0;34m(self, data, url, filename)\u001b[0m\n\u001b[1;32m    611\u001b[0m         \u001b[0mself\u001b[0m\u001b[0;34m.\u001b[0m\u001b[0mfilename\u001b[0m \u001b[0;34m=\u001b[0m \u001b[0mNone\u001b[0m \u001b[0;32mif\u001b[0m \u001b[0mfilename\u001b[0m \u001b[0;32mis\u001b[0m \u001b[0mNone\u001b[0m \u001b[0;32melse\u001b[0m \u001b[0municode_type\u001b[0m\u001b[0;34m(\u001b[0m\u001b[0mfilename\u001b[0m\u001b[0;34m)\u001b[0m\u001b[0;34m\u001b[0m\u001b[0;34m\u001b[0m\u001b[0m\n\u001b[1;32m    612\u001b[0m \u001b[0;34m\u001b[0m\u001b[0m\n\u001b[0;32m--> 613\u001b[0;31m         \u001b[0mself\u001b[0m\u001b[0;34m.\u001b[0m\u001b[0mreload\u001b[0m\u001b[0;34m(\u001b[0m\u001b[0;34m)\u001b[0m\u001b[0;34m\u001b[0m\u001b[0;34m\u001b[0m\u001b[0m\n\u001b[0m\u001b[1;32m    614\u001b[0m         \u001b[0mself\u001b[0m\u001b[0;34m.\u001b[0m\u001b[0m_check_data\u001b[0m\u001b[0;34m(\u001b[0m\u001b[0;34m)\u001b[0m\u001b[0;34m\u001b[0m\u001b[0;34m\u001b[0m\u001b[0m\n\u001b[1;32m    615\u001b[0m \u001b[0;34m\u001b[0m\u001b[0m\n",
            "\u001b[0;32m/usr/local/lib/python2.7/dist-packages/IPython/core/display.pyc\u001b[0m in \u001b[0;36mreload\u001b[0;34m(self)\u001b[0m\n\u001b[1;32m   1041\u001b[0m         \u001b[0;34m\"\"\"Reload the raw data from file or URL.\"\"\"\u001b[0m\u001b[0;34m\u001b[0m\u001b[0;34m\u001b[0m\u001b[0m\n\u001b[1;32m   1042\u001b[0m         \u001b[0;32mif\u001b[0m \u001b[0mself\u001b[0m\u001b[0;34m.\u001b[0m\u001b[0membed\u001b[0m\u001b[0;34m:\u001b[0m\u001b[0;34m\u001b[0m\u001b[0;34m\u001b[0m\u001b[0m\n\u001b[0;32m-> 1043\u001b[0;31m             \u001b[0msuper\u001b[0m\u001b[0;34m(\u001b[0m\u001b[0mImage\u001b[0m\u001b[0;34m,\u001b[0m\u001b[0mself\u001b[0m\u001b[0;34m)\u001b[0m\u001b[0;34m.\u001b[0m\u001b[0mreload\u001b[0m\u001b[0;34m(\u001b[0m\u001b[0;34m)\u001b[0m\u001b[0;34m\u001b[0m\u001b[0;34m\u001b[0m\u001b[0m\n\u001b[0m\u001b[1;32m   1044\u001b[0m             \u001b[0;32mif\u001b[0m \u001b[0mself\u001b[0m\u001b[0;34m.\u001b[0m\u001b[0mretina\u001b[0m\u001b[0;34m:\u001b[0m\u001b[0;34m\u001b[0m\u001b[0;34m\u001b[0m\u001b[0m\n\u001b[1;32m   1045\u001b[0m                 \u001b[0mself\u001b[0m\u001b[0;34m.\u001b[0m\u001b[0m_retina_shape\u001b[0m\u001b[0;34m(\u001b[0m\u001b[0;34m)\u001b[0m\u001b[0;34m\u001b[0m\u001b[0;34m\u001b[0m\u001b[0m\n",
            "\u001b[0;32m/usr/local/lib/python2.7/dist-packages/IPython/core/display.pyc\u001b[0m in \u001b[0;36mreload\u001b[0;34m(self)\u001b[0m\n\u001b[1;32m    629\u001b[0m         \u001b[0;34m\"\"\"Reload the raw data from file or URL.\"\"\"\u001b[0m\u001b[0;34m\u001b[0m\u001b[0;34m\u001b[0m\u001b[0m\n\u001b[1;32m    630\u001b[0m         \u001b[0;32mif\u001b[0m \u001b[0mself\u001b[0m\u001b[0;34m.\u001b[0m\u001b[0mfilename\u001b[0m \u001b[0;32mis\u001b[0m \u001b[0;32mnot\u001b[0m \u001b[0mNone\u001b[0m\u001b[0;34m:\u001b[0m\u001b[0;34m\u001b[0m\u001b[0;34m\u001b[0m\u001b[0m\n\u001b[0;32m--> 631\u001b[0;31m             \u001b[0;32mwith\u001b[0m \u001b[0mopen\u001b[0m\u001b[0;34m(\u001b[0m\u001b[0mself\u001b[0m\u001b[0;34m.\u001b[0m\u001b[0mfilename\u001b[0m\u001b[0;34m,\u001b[0m \u001b[0mself\u001b[0m\u001b[0;34m.\u001b[0m\u001b[0m_read_flags\u001b[0m\u001b[0;34m)\u001b[0m \u001b[0;32mas\u001b[0m \u001b[0mf\u001b[0m\u001b[0;34m:\u001b[0m\u001b[0;34m\u001b[0m\u001b[0;34m\u001b[0m\u001b[0m\n\u001b[0m\u001b[1;32m    632\u001b[0m                 \u001b[0mself\u001b[0m\u001b[0;34m.\u001b[0m\u001b[0mdata\u001b[0m \u001b[0;34m=\u001b[0m \u001b[0mf\u001b[0m\u001b[0;34m.\u001b[0m\u001b[0mread\u001b[0m\u001b[0;34m(\u001b[0m\u001b[0;34m)\u001b[0m\u001b[0;34m\u001b[0m\u001b[0;34m\u001b[0m\u001b[0m\n\u001b[1;32m    633\u001b[0m         \u001b[0;32melif\u001b[0m \u001b[0mself\u001b[0m\u001b[0;34m.\u001b[0m\u001b[0murl\u001b[0m \u001b[0;32mis\u001b[0m \u001b[0;32mnot\u001b[0m \u001b[0mNone\u001b[0m\u001b[0;34m:\u001b[0m\u001b[0;34m\u001b[0m\u001b[0;34m\u001b[0m\u001b[0m\n",
            "\u001b[0;31mIOError\u001b[0m: [Errno 2] No such file or directory: u'images/Drawing.jpeg'"
          ]
        }
      ]
    },
    {
      "cell_type": "markdown",
      "metadata": {
        "id": "x_JrmtQLVcRy",
        "colab_type": "text"
      },
      "source": [
        "Two of the computations (d=b+c and e=c+2) can be performed in parallel.  By splitting up these calculations across CPUs or GPUs, this can give us significant gains in computational times.  \n",
        "\n",
        "These gains are a must for big data applications and deep learning – especially for complicated neural network architectures such as Convolutional Neural Networks (CNNs) and Recurrent Neural Networks (RNNs).\n",
        "Advantages:\n",
        "\n",
        "Read about advantages in detail here: https://www.tensorflow.org/programmers_guide/graphs."
      ]
    },
    {
      "cell_type": "markdown",
      "metadata": {
        "id": "U3juCjJcVcRz",
        "colab_type": "text"
      },
      "source": [
        "#### What does a Tensorflow graph look like?\n",
        "\n",
        "The graph below shows the computational graph of a three-layer neural network. \n",
        "\n",
        "1. Input Layer: The animated data flows between different nodes in the graph are tensors which are multi-dimensional data arrays. \n",
        "\n",
        "2. Intemediate Layer: After the input layer there is a hidden layer with rectified linear units as the activation function. \n",
        "\n",
        "3. Output Layer: There is a final output layer (called a “logit layer” in the above graph) which uses cross entropy as a loss function. \n",
        "\n",
        "At each point we see the relevant tensors flowing to the “Gradients” block which finally flow to the Stochastic Gradient Descent optimiser which performs the back-propagation and gradient descent."
      ]
    },
    {
      "cell_type": "code",
      "metadata": {
        "id": "ZFmqL5yPVcR0",
        "colab_type": "code",
        "outputId": "c2dd90d8-3d57-4c5b-e5f5-b57fe89f4b65",
        "colab": {
          "base_uri": "https://localhost:8080/",
          "height": 469
        }
      },
      "source": [
        "HTML('<img src=\"http://adventuresinmachinelearning.com/wp-content/uploads/2017/03/TensorFlow-data-flow-graph.gif\">')"
      ],
      "execution_count": 0,
      "outputs": [
        {
          "output_type": "execute_result",
          "data": {
            "text/html": [
              "<img src=\"http://adventuresinmachinelearning.com/wp-content/uploads/2017/03/TensorFlow-data-flow-graph.gif\">"
            ],
            "text/plain": [
              "<IPython.core.display.HTML object>"
            ]
          },
          "metadata": {
            "tags": []
          },
          "execution_count": 7
        }
      ]
    },
    {
      "cell_type": "markdown",
      "metadata": {
        "id": "A0-Z8JhHVcR2",
        "colab_type": "text"
      },
      "source": [
        "#### What is a session?\n",
        "\n",
        "1. A graph defines the computation. It doesn’t compute anything as it doesn’t hold any values, it just defines the operations that you specified in your code.\n",
        "\n",
        "2. A session allows to execute graphs or part of graphs. It allocates resources (on one or more machines) for that and holds the actual values of intermediate results and variables."
      ]
    },
    {
      "cell_type": "code",
      "metadata": {
        "id": "lQ2gdvnFVcR3",
        "colab_type": "code",
        "colab": {}
      },
      "source": [
        "# explicitly defining a default graph. \n",
        "mygraph = tf.Graph()\n",
        "with mygraph.as_default():\n",
        "  myvariable = tf.Variable(42, name='my_var') # operation 1\n",
        "  initialize = tf.global_variables_initializer() # operation 2\n",
        "  assign13 = myvariable.assign(13) # operation 3"
      ],
      "execution_count": 0,
      "outputs": []
    },
    {
      "cell_type": "markdown",
      "metadata": {
        "id": "_e79npqOVcR5",
        "colab_type": "text"
      },
      "source": [
        "To run any of the three defined operations above, we need to create a session for that graph. The session will also allocate memory to store the current value of the variable."
      ]
    },
    {
      "cell_type": "code",
      "metadata": {
        "id": "12lnJIu7VcR5",
        "colab_type": "code",
        "outputId": "c8d4a62a-3e71-4dbe-8a23-b1f947b32ab8",
        "colab": {
          "base_uri": "https://localhost:8080/",
          "height": 377
        }
      },
      "source": [
        "# error: Attempting to use uninitialized value my_var\n",
        "with tf.Session(graph=mygraph) as sess:\n",
        "  print(sess.run(myvariable))\n"
      ],
      "execution_count": 0,
      "outputs": [
        {
          "output_type": "error",
          "ename": "FailedPreconditionError",
          "evalue": "ignored",
          "traceback": [
            "\u001b[0;31m\u001b[0m",
            "\u001b[0;31mFailedPreconditionError\u001b[0mTraceback (most recent call last)",
            "\u001b[0;32m<ipython-input-9-15929511fafb>\u001b[0m in \u001b[0;36m<module>\u001b[0;34m()\u001b[0m\n\u001b[1;32m      1\u001b[0m \u001b[0;32mwith\u001b[0m \u001b[0mtf\u001b[0m\u001b[0;34m.\u001b[0m\u001b[0mSession\u001b[0m\u001b[0;34m(\u001b[0m\u001b[0mgraph\u001b[0m\u001b[0;34m=\u001b[0m\u001b[0mmygraph\u001b[0m\u001b[0;34m)\u001b[0m \u001b[0;32mas\u001b[0m \u001b[0msess\u001b[0m\u001b[0;34m:\u001b[0m\u001b[0;34m\u001b[0m\u001b[0;34m\u001b[0m\u001b[0m\n\u001b[0;32m----> 2\u001b[0;31m   \u001b[0;32mprint\u001b[0m\u001b[0;34m(\u001b[0m\u001b[0msess\u001b[0m\u001b[0;34m.\u001b[0m\u001b[0mrun\u001b[0m\u001b[0;34m(\u001b[0m\u001b[0mmyvariable\u001b[0m\u001b[0;34m)\u001b[0m\u001b[0;34m)\u001b[0m\u001b[0;34m\u001b[0m\u001b[0;34m\u001b[0m\u001b[0m\n\u001b[0m",
            "\u001b[0;32m/usr/local/lib/python2.7/dist-packages/tensorflow/python/client/session.pyc\u001b[0m in \u001b[0;36mrun\u001b[0;34m(self, fetches, feed_dict, options, run_metadata)\u001b[0m\n\u001b[1;32m    948\u001b[0m     \u001b[0;32mtry\u001b[0m\u001b[0;34m:\u001b[0m\u001b[0;34m\u001b[0m\u001b[0;34m\u001b[0m\u001b[0m\n\u001b[1;32m    949\u001b[0m       result = self._run(None, fetches, feed_dict, options_ptr,\n\u001b[0;32m--> 950\u001b[0;31m                          run_metadata_ptr)\n\u001b[0m\u001b[1;32m    951\u001b[0m       \u001b[0;32mif\u001b[0m \u001b[0mrun_metadata\u001b[0m\u001b[0;34m:\u001b[0m\u001b[0;34m\u001b[0m\u001b[0;34m\u001b[0m\u001b[0m\n\u001b[1;32m    952\u001b[0m         \u001b[0mproto_data\u001b[0m \u001b[0;34m=\u001b[0m \u001b[0mtf_session\u001b[0m\u001b[0;34m.\u001b[0m\u001b[0mTF_GetBuffer\u001b[0m\u001b[0;34m(\u001b[0m\u001b[0mrun_metadata_ptr\u001b[0m\u001b[0;34m)\u001b[0m\u001b[0;34m\u001b[0m\u001b[0;34m\u001b[0m\u001b[0m\n",
            "\u001b[0;32m/usr/local/lib/python2.7/dist-packages/tensorflow/python/client/session.pyc\u001b[0m in \u001b[0;36m_run\u001b[0;34m(self, handle, fetches, feed_dict, options, run_metadata)\u001b[0m\n\u001b[1;32m   1171\u001b[0m     \u001b[0;32mif\u001b[0m \u001b[0mfinal_fetches\u001b[0m \u001b[0;32mor\u001b[0m \u001b[0mfinal_targets\u001b[0m \u001b[0;32mor\u001b[0m \u001b[0;34m(\u001b[0m\u001b[0mhandle\u001b[0m \u001b[0;32mand\u001b[0m \u001b[0mfeed_dict_tensor\u001b[0m\u001b[0;34m)\u001b[0m\u001b[0;34m:\u001b[0m\u001b[0;34m\u001b[0m\u001b[0;34m\u001b[0m\u001b[0m\n\u001b[1;32m   1172\u001b[0m       results = self._do_run(handle, final_targets, final_fetches,\n\u001b[0;32m-> 1173\u001b[0;31m                              feed_dict_tensor, options, run_metadata)\n\u001b[0m\u001b[1;32m   1174\u001b[0m     \u001b[0;32melse\u001b[0m\u001b[0;34m:\u001b[0m\u001b[0;34m\u001b[0m\u001b[0;34m\u001b[0m\u001b[0m\n\u001b[1;32m   1175\u001b[0m       \u001b[0mresults\u001b[0m \u001b[0;34m=\u001b[0m \u001b[0;34m[\u001b[0m\u001b[0;34m]\u001b[0m\u001b[0;34m\u001b[0m\u001b[0;34m\u001b[0m\u001b[0m\n",
            "\u001b[0;32m/usr/local/lib/python2.7/dist-packages/tensorflow/python/client/session.pyc\u001b[0m in \u001b[0;36m_do_run\u001b[0;34m(self, handle, target_list, fetch_list, feed_dict, options, run_metadata)\u001b[0m\n\u001b[1;32m   1348\u001b[0m     \u001b[0;32mif\u001b[0m \u001b[0mhandle\u001b[0m \u001b[0;32mis\u001b[0m \u001b[0mNone\u001b[0m\u001b[0;34m:\u001b[0m\u001b[0;34m\u001b[0m\u001b[0;34m\u001b[0m\u001b[0m\n\u001b[1;32m   1349\u001b[0m       return self._do_call(_run_fn, feeds, fetches, targets, options,\n\u001b[0;32m-> 1350\u001b[0;31m                            run_metadata)\n\u001b[0m\u001b[1;32m   1351\u001b[0m     \u001b[0;32melse\u001b[0m\u001b[0;34m:\u001b[0m\u001b[0;34m\u001b[0m\u001b[0;34m\u001b[0m\u001b[0m\n\u001b[1;32m   1352\u001b[0m       \u001b[0;32mreturn\u001b[0m \u001b[0mself\u001b[0m\u001b[0;34m.\u001b[0m\u001b[0m_do_call\u001b[0m\u001b[0;34m(\u001b[0m\u001b[0m_prun_fn\u001b[0m\u001b[0;34m,\u001b[0m \u001b[0mhandle\u001b[0m\u001b[0;34m,\u001b[0m \u001b[0mfeeds\u001b[0m\u001b[0;34m,\u001b[0m \u001b[0mfetches\u001b[0m\u001b[0;34m)\u001b[0m\u001b[0;34m\u001b[0m\u001b[0;34m\u001b[0m\u001b[0m\n",
            "\u001b[0;32m/usr/local/lib/python2.7/dist-packages/tensorflow/python/client/session.pyc\u001b[0m in \u001b[0;36m_do_call\u001b[0;34m(self, fn, *args)\u001b[0m\n\u001b[1;32m   1368\u001b[0m           \u001b[0;32mpass\u001b[0m\u001b[0;34m\u001b[0m\u001b[0;34m\u001b[0m\u001b[0m\n\u001b[1;32m   1369\u001b[0m       \u001b[0mmessage\u001b[0m \u001b[0;34m=\u001b[0m \u001b[0merror_interpolation\u001b[0m\u001b[0;34m.\u001b[0m\u001b[0minterpolate\u001b[0m\u001b[0;34m(\u001b[0m\u001b[0mmessage\u001b[0m\u001b[0;34m,\u001b[0m \u001b[0mself\u001b[0m\u001b[0;34m.\u001b[0m\u001b[0m_graph\u001b[0m\u001b[0;34m)\u001b[0m\u001b[0;34m\u001b[0m\u001b[0;34m\u001b[0m\u001b[0m\n\u001b[0;32m-> 1370\u001b[0;31m       \u001b[0;32mraise\u001b[0m \u001b[0mtype\u001b[0m\u001b[0;34m(\u001b[0m\u001b[0me\u001b[0m\u001b[0;34m)\u001b[0m\u001b[0;34m(\u001b[0m\u001b[0mnode_def\u001b[0m\u001b[0;34m,\u001b[0m \u001b[0mop\u001b[0m\u001b[0;34m,\u001b[0m \u001b[0mmessage\u001b[0m\u001b[0;34m)\u001b[0m\u001b[0;34m\u001b[0m\u001b[0;34m\u001b[0m\u001b[0m\n\u001b[0m\u001b[1;32m   1371\u001b[0m \u001b[0;34m\u001b[0m\u001b[0m\n\u001b[1;32m   1372\u001b[0m   \u001b[0;32mdef\u001b[0m \u001b[0m_extend_graph\u001b[0m\u001b[0;34m(\u001b[0m\u001b[0mself\u001b[0m\u001b[0;34m)\u001b[0m\u001b[0;34m:\u001b[0m\u001b[0;34m\u001b[0m\u001b[0;34m\u001b[0m\u001b[0m\n",
            "\u001b[0;31mFailedPreconditionError\u001b[0m: Attempting to use uninitialized value my_var\n\t [[{{node _retval_my_var_0_0}}]]"
          ]
        }
      ]
    },
    {
      "cell_type": "markdown",
      "metadata": {
        "id": "vefk3iqeVcR8",
        "colab_type": "text"
      },
      "source": [
        "When you launch the graph, variables have to be explicitly initialized before you can run operations that use their value.\n",
        "\n",
        "The value of our variable is only valid within one session. If we try to query the value afterwards in a second session, TensorFlow will raise an error because the variable is not initialized there. "
      ]
    },
    {
      "cell_type": "code",
      "metadata": {
        "id": "KArzvP7CVcR9",
        "colab_type": "code",
        "outputId": "52358cb9-8ff4-45bf-84c6-802a50b50061",
        "colab": {
          "base_uri": "https://localhost:8080/",
          "height": 35
        }
      },
      "source": [
        "# printing the output in a session\n",
        "with tf.Session(graph=mygraph) as sess:\n",
        "    sess.run(initialize)\n",
        "    sess.run(assign13)\n",
        "    print(sess.run(myvariable))"
      ],
      "execution_count": 0,
      "outputs": [
        {
          "output_type": "stream",
          "text": [
            "13\n"
          ],
          "name": "stdout"
        }
      ]
    },
    {
      "cell_type": "code",
      "metadata": {
        "id": "UkZpHa5IVcSA",
        "colab_type": "code",
        "outputId": "7e368597-20cb-4cd5-9f28-a2e072581933",
        "colab": {}
      },
      "source": [
        "# printing the output in a different session\n",
        "with tf.Session(graph=mygraph) as sess:\n",
        "    sess.run(initialize)\n",
        "    print(sess.run(myvariable))"
      ],
      "execution_count": 0,
      "outputs": [
        {
          "output_type": "stream",
          "text": [
            "42\n"
          ],
          "name": "stdout"
        }
      ]
    },
    {
      "cell_type": "markdown",
      "metadata": {
        "id": "tWiKbxktVcSD",
        "colab_type": "text"
      },
      "source": [
        "We can use the graph in more than one session, we just have to initialize the variables again. The values in the new session will be completely independent from the first one"
      ]
    },
    {
      "cell_type": "markdown",
      "metadata": {
        "id": "-TslLHErVcSD",
        "colab_type": "text"
      },
      "source": [
        "Note: You can have multiple graphs though that is preferable. This is out of scope for us. "
      ]
    },
    {
      "cell_type": "markdown",
      "metadata": {
        "id": "yZ_RXT0iVcSE",
        "colab_type": "text"
      },
      "source": [
        "#### Spot the difference!"
      ]
    },
    {
      "cell_type": "code",
      "metadata": {
        "id": "-SQaA_HuVcSF",
        "colab_type": "code",
        "outputId": "22660d19-ec2c-46c6-8e5b-06143423c649",
        "colab": {
          "base_uri": "https://localhost:8080/",
          "height": 53
        }
      },
      "source": [
        "c = tf.add(3, 5)\n",
        "print(\"This is an abstraction: {}\".format(c))\n",
        "\n",
        "c = np.add(3, 5)\n",
        "print(\"This is an actual calculation: {}\".format(c))"
      ],
      "execution_count": 0,
      "outputs": [
        {
          "output_type": "stream",
          "text": [
            "This is an abstraction: Tensor(\"Add:0\", shape=(), dtype=int32)\n",
            "This is an actual calculation: 8\n"
          ],
          "name": "stdout"
        }
      ]
    },
    {
      "cell_type": "markdown",
      "metadata": {
        "id": "fzfYJ32MVcSH",
        "colab_type": "text"
      },
      "source": [
        "## Basic Operations"
      ]
    },
    {
      "cell_type": "markdown",
      "metadata": {
        "id": "08A301dFVcSI",
        "colab_type": "text"
      },
      "source": [
        "Let’s make TensorFlow perform our simple calculation above a=(b+c)∗(c+2)."
      ]
    },
    {
      "cell_type": "code",
      "metadata": {
        "id": "UqVEvykrVcSI",
        "colab_type": "code",
        "colab": {}
      },
      "source": [
        "# first, create a TensorFlow constant\n",
        "const = tf.constant(2.0, name=\"const\")\n",
        "\n",
        "# create TensorFlow variables\n",
        "b = tf.Variable(2.0, name='b')\n",
        "# b = tf.placeholder(tf.float32, [None, 1], name='b')\n",
        "c = tf.Variable(1.0, name='c')\n"
      ],
      "execution_count": 0,
      "outputs": []
    },
    {
      "cell_type": "markdown",
      "metadata": {
        "id": "0CCEv5iAVcSK",
        "colab_type": "text"
      },
      "source": [
        "1. The first element in both is the value to be assigned the constant / variable when it is initialised. \n",
        " \n",
        "2. The second is an optional name string which can be used to label the constant / variable – this is handy for when you want to do visualisations.  \n",
        "\n",
        "TensorFlow will infer the type of the constant / variable from the initialised value, but it can also be set explicitly using the optional dtype argument.  "
      ]
    },
    {
      "cell_type": "code",
      "metadata": {
        "id": "zO1RCQrNVcSL",
        "colab_type": "code",
        "outputId": "4aa4d92e-88fe-4f86-e940-e9db284e2b85",
        "colab": {}
      },
      "source": [
        "# now create some operations\n",
        "d = tf.add(b, c, name='d')\n",
        "e = tf.add(c, const, name='e')\n",
        "a = tf.multiply(d, e, name='a')\n",
        "\n",
        "# setup the variable initialisation\n",
        "init_op = tf.global_variables_initializer()\n",
        "\n",
        "# start the session\n",
        "with tf.Session() as sess:\n",
        "    # initialise the variables\n",
        "    sess.run(init_op)\n",
        "#     a_out = sess.run(a, feed_dict={b: np.arange(0, 10)[:, np.newaxis]})\n",
        "    # compute the output of the graph\n",
        "    a_out = sess.run(a)\n",
        "    print(\"Variable a is {}\".format(a_out))"
      ],
      "execution_count": 0,
      "outputs": [
        {
          "output_type": "stream",
          "text": [
            "Variable a is 9.0\n"
          ],
          "name": "stdout"
        }
      ]
    },
    {
      "cell_type": "code",
      "metadata": {
        "id": "7n8HxiXyVcSN",
        "colab_type": "code",
        "outputId": "cb82176c-3d01-4cfb-926b-7b051f90e9e1",
        "colab": {}
      },
      "source": [
        "Image(filename=\"images/basic-ops.png\")"
      ],
      "execution_count": 0,
      "outputs": [
        {
          "output_type": "execute_result",
          "data": {
            "image/png": "[encoded data removed]",
            "text/plain": [
              "<IPython.core.display.Image object>"
            ]
          },
          "metadata": {
            "tags": []
          },
          "execution_count": 5
        }
      ]
    },
    {
      "cell_type": "markdown",
      "metadata": {
        "id": "fgekEVWZVcSP",
        "colab_type": "text"
      },
      "source": [
        "Note: We defined operations d and e which need to be calculated before we can figure out what a is.  However, we don’t have to explicitly run those operations, as TensorFlow knows what other operations and variables the operation a depends on, and therefore runs the necessary operations on its own."
      ]
    },
    {
      "cell_type": "markdown",
      "metadata": {
        "id": "2jC3kmqRVcSQ",
        "colab_type": "text"
      },
      "source": [
        "Let’s say that we didn’t know what the value of the array b would be during the declaration phase of the TensorFlow problem (i.e. before the with tf.Session() as sess) stage.  In this case, TensorFlow requires us to declare the basic structure of the data by using the tf.placeholder variable declaration.  Let’s use it for b:"
      ]
    },
    {
      "cell_type": "code",
      "metadata": {
        "id": "dNM1JOUoVcSR",
        "colab_type": "code",
        "outputId": "ee9fecc2-bd00-4cf3-cb4c-d4e80c961529",
        "colab": {}
      },
      "source": [
        "# first, create a TensorFlow constant\n",
        "const = tf.constant(2.0, name=\"const\")\n",
        "\n",
        "# create TensorFlow variables\n",
        "b = tf.placeholder(tf.float32, [None, 1], name='b')\n",
        "c = tf.Variable(1.0, name='c')\n",
        "\n",
        "# now create some operations\n",
        "d = tf.add(b, c, name='d')\n",
        "e = tf.add(c, const, name='e')\n",
        "a = tf.multiply(d, e, name='a')\n",
        "\n",
        "# setup the variable initialisation\n",
        "init_op = tf.global_variables_initializer()\n",
        "\n",
        "# start the session\n",
        "with tf.Session() as sess:\n",
        "    # initialise the variables\n",
        "    sess.run(init_op)\n",
        "    a_out = sess.run(a, feed_dict={b: np.arange(0, 10)[:, np.newaxis]})\n",
        "    # compute the output of the graph\n",
        "    print(\"Variable a is {}\".format(a_out))\n",
        "\n"
      ],
      "execution_count": 0,
      "outputs": [
        {
          "output_type": "stream",
          "text": [
            "Variable a is [[ 3.]\n",
            " [ 6.]\n",
            " [ 9.]\n",
            " [12.]\n",
            " [15.]\n",
            " [18.]\n",
            " [21.]\n",
            " [24.]\n",
            " [27.]\n",
            " [30.]]\n"
          ],
          "name": "stdout"
        }
      ]
    },
    {
      "cell_type": "markdown",
      "metadata": {
        "id": "XSNG0DmDVcSU",
        "colab_type": "text"
      },
      "source": [
        "## Logistic Regression Model"
      ]
    },
    {
      "cell_type": "markdown",
      "metadata": {
        "id": "0F_VvhWiVcSU",
        "colab_type": "text"
      },
      "source": [
        "#### Dataset\n",
        "\n",
        "The MNIST data is split into three parts: \n",
        "1. 55,000 data points of training data (mnist.train)\n",
        "2. 10,000 points of test data (mnist.test), and \n",
        "3. 5,000 points of validation data (mnist.validation). This split is very important!\n",
        "\n",
        "We call the images \"x\" and the labels \"y\". Each image is 28 pixels by 28 pixels- once flattened 784 numbers. Each entry in the tensor is a pixel intensity between 0 and 1, for a particular pixel in a particular image. Each image in MNIST has a corresponding label, a number between 0 and 9 representing the digit drawn in the image."
      ]
    },
    {
      "cell_type": "code",
      "metadata": {
        "id": "pTgqpl4nVcSb",
        "colab_type": "code",
        "outputId": "68b7a881-7ead-43d5-99cf-e2fcbcaaec28",
        "colab": {}
      },
      "source": [
        "\"\"\" Simple logistic regression model to solve OCR task \n",
        "\"\"\"\n",
        "# INFO and WARNING messages are not printed\n",
        "os.environ['TF_CPP_MIN_LOG_LEVEL']='2'\n",
        "\n",
        "# Define hyperparamaters for the model\n",
        "learning_rate = 0.01\n",
        "batch_size = 128\n",
        "n_epochs = 30\n",
        "\n",
        "# Step 1: Read in data\n",
        "# using TF Learn's built in function to load MNIST data to the folder data/mnist\n",
        "mnist = input_data.read_data_sets('data/mnist', one_hot=True) \n",
        "\n",
        "# Step 2: create placeholders for features and labels\n",
        "# each image in the MNIST data is of shape 28*28 = 784\n",
        "# therefore, each image is represented with a 1x784 tensor\n",
        "# there are 10 classes for each image, corresponding to digits 0 - 9. \n",
        "# each lable is one hot vector.\n",
        "X = tf.placeholder(tf.float32, [batch_size, 784], name='X_placeholder') \n",
        "Y = tf.placeholder(tf.int32, [batch_size, 10], name='Y_placeholder')\n",
        "\n",
        "# Step 3: create weights and bias\n",
        "# w is initialized to random variables with mean of 0, stddev of 0.01\n",
        "# b is initialized to 0\n",
        "# shape of w depends on the dimension of X and Y so that Y = tf.matmul(X, w)\n",
        "# shape of b depends on Y\n",
        "w = tf.Variable(tf.random_normal(shape=[784, 10], stddev=0.01), name='weights')\n",
        "b = tf.Variable(tf.zeros([1, 10]), name=\"bias\")\n",
        "\n",
        "# Step 4: build model\n",
        "# the model that returns the logits.\n",
        "# this logits will be later passed through softmax layer\n",
        "logits = tf.matmul(X, w) + b \n",
        "\n",
        "# Step 5: define loss function\n",
        "# use cross entropy of softmax of logits as the loss function\n",
        "cross_entropy = tf.nn.softmax_cross_entropy_with_logits(logits=logits, labels=Y, name='loss')\n",
        "# computes the mean over all the examples in the batch\n",
        "loss = tf.reduce_mean(cross_entropy) \n",
        "\n",
        "# Step 6: define training op\n",
        "# using gradient descent with learning rate of 0.01 to minimize loss\n",
        "optimizer = tf.train.AdamOptimizer(learning_rate).minimize(loss)\n",
        "\n",
        "# Add ops to save and restore all the variables.\n",
        "saver = tf.train.Saver()\n",
        "\n",
        "with tf.Session() as sess:\n",
        "\t# to visualize using TensorBoard\n",
        "\twriter = tf.summary.FileWriter('examples/graphs/logistic_reg', sess.graph)\n",
        "\n",
        "    #training the model\n",
        "\tstart_time = time.time()\n",
        "\tsess.run(tf.global_variables_initializer())\t\n",
        "\tn_batches = int(mnist.train.num_examples/batch_size)\n",
        "    # train the model n_epochs times\n",
        "\tfor i in range(n_epochs): \n",
        "\t\ttotal_loss = 0\n",
        "\t\tfor _ in range(n_batches):\n",
        "\t\t\tX_batch, Y_batch = mnist.train.next_batch(batch_size)\n",
        "\t\t\t# pass all variables whose values you want as a list            \n",
        "\t\t\t_, loss_batch = sess.run([optimizer, loss], feed_dict={X: X_batch, Y:Y_batch}) \n",
        "\t\t\ttotal_loss += loss_batch\n",
        "\t\tprint('Average loss epoch {0}: {1}'.format(i, total_loss/n_batches))\n",
        "\n",
        "\tprint('Total time: {0} seconds'.format(time.time() - start_time))\n",
        "\tprint('Optimization Finished!') \n",
        "\n",
        "\t#testing the model\n",
        "\t\n",
        "\tpreds = tf.nn.softmax(logits)\n",
        "    # get the index of the highest entry in a tensor along some axis\n",
        "\tcorrect_preds = tf.equal(tf.argmax(preds, 1), tf.argmax(Y, 1))\n",
        "    # gives us a list of booleans. determine what fraction are correct, we cast to floating point numbers and then take the mean\n",
        "\taccuracy = tf.reduce_sum(tf.cast(correct_preds, tf.float32)) \n",
        "\t\n",
        "\tn_batches = int(mnist.test.num_examples/batch_size)\n",
        "\ttotal_correct_preds = 0\n",
        "\t\n",
        "\tfor i in range(n_batches):\n",
        "\t\tX_batch, Y_batch = mnist.test.next_batch(batch_size)\n",
        "\t\taccuracy_batch = sess.run([accuracy], feed_dict={X: X_batch, Y:Y_batch}) \n",
        "\t\ttotal_correct_preds += accuracy_batch[0]\t\n",
        "\t\n",
        "\tprint('Accuracy {0}'.format(total_correct_preds/mnist.test.num_examples))\n",
        "\n",
        "\tsave_path = saver.save(sess, \"examples/graphs/logistic_reg/lr_model.ckpt\")\n",
        "\tprint(\"Model saved in path: %s\" % save_path)\n",
        "\twriter.close()\n"
      ],
      "execution_count": 0,
      "outputs": [
        {
          "output_type": "stream",
          "text": [
            "WARNING:tensorflow:From <ipython-input-11-584f444edd21>:13: read_data_sets (from tensorflow.contrib.learn.python.learn.datasets.mnist) is deprecated and will be removed in a future version.\n",
            "Instructions for updating:\n",
            "Please use alternatives such as official/mnist/dataset.py from tensorflow/models.\n",
            "WARNING:tensorflow:From /Library/Python/2.7/site-packages/tensorflow/contrib/learn/python/learn/datasets/mnist.py:260: maybe_download (from tensorflow.contrib.learn.python.learn.datasets.base) is deprecated and will be removed in a future version.\n",
            "Instructions for updating:\n",
            "Please write your own downloading logic.\n",
            "WARNING:tensorflow:From /Library/Python/2.7/site-packages/tensorflow/contrib/learn/python/learn/datasets/base.py:252: wrapped_fn (from tensorflow.contrib.learn.python.learn.datasets.base) is deprecated and will be removed in a future version.\n",
            "Instructions for updating:\n",
            "Please use urllib or similar directly.\n",
            "Successfully downloaded train-images-idx3-ubyte.gz 9912422 bytes.\n",
            "WARNING:tensorflow:From /Library/Python/2.7/site-packages/tensorflow/contrib/learn/python/learn/datasets/mnist.py:262: extract_images (from tensorflow.contrib.learn.python.learn.datasets.mnist) is deprecated and will be removed in a future version.\n",
            "Instructions for updating:\n",
            "Please use tf.data to implement this functionality.\n",
            "Extracting data/mnist/train-images-idx3-ubyte.gz\n",
            "Successfully downloaded train-labels-idx1-ubyte.gz 28881 bytes.\n",
            "WARNING:tensorflow:From /Library/Python/2.7/site-packages/tensorflow/contrib/learn/python/learn/datasets/mnist.py:267: extract_labels (from tensorflow.contrib.learn.python.learn.datasets.mnist) is deprecated and will be removed in a future version.\n",
            "Instructions for updating:\n",
            "Please use tf.data to implement this functionality.\n",
            "Extracting data/mnist/train-labels-idx1-ubyte.gz\n",
            "WARNING:tensorflow:From /Library/Python/2.7/site-packages/tensorflow/contrib/learn/python/learn/datasets/mnist.py:110: dense_to_one_hot (from tensorflow.contrib.learn.python.learn.datasets.mnist) is deprecated and will be removed in a future version.\n",
            "Instructions for updating:\n",
            "Please use tf.one_hot on tensors.\n",
            "Successfully downloaded t10k-images-idx3-ubyte.gz 1648877 bytes.\n",
            "Extracting data/mnist/t10k-images-idx3-ubyte.gz\n",
            "Successfully downloaded t10k-labels-idx1-ubyte.gz 4542 bytes.\n",
            "Extracting data/mnist/t10k-labels-idx1-ubyte.gz\n",
            "WARNING:tensorflow:From /Library/Python/2.7/site-packages/tensorflow/contrib/learn/python/learn/datasets/mnist.py:290: __init__ (from tensorflow.contrib.learn.python.learn.datasets.mnist) is deprecated and will be removed in a future version.\n",
            "Instructions for updating:\n",
            "Please use alternatives such as official/mnist/dataset.py from tensorflow/models.\n",
            "WARNING:tensorflow:From <ipython-input-11-584f444edd21>:38: softmax_cross_entropy_with_logits (from tensorflow.python.ops.nn_ops) is deprecated and will be removed in a future version.\n",
            "Instructions for updating:\n",
            "\n",
            "Future major versions of TensorFlow will allow gradients to flow\n",
            "into the labels input on backprop by default.\n",
            "\n",
            "See `tf.nn.softmax_cross_entropy_with_logits_v2`.\n",
            "\n",
            "Average loss epoch 0: 0.369227868937\n",
            "Average loss epoch 1: 0.296855713121\n",
            "Average loss epoch 2: 0.285938974235\n",
            "Average loss epoch 3: 0.277254599757\n",
            "Average loss epoch 4: 0.274823063633\n",
            "Average loss epoch 5: 0.270294424798\n",
            "Average loss epoch 6: 0.27197129486\n",
            "Average loss epoch 7: 0.267675622794\n",
            "Average loss epoch 8: 0.268344106791\n",
            "Average loss epoch 9: 0.264978345006\n",
            "Average loss epoch 10: 0.266461723126\n",
            "Average loss epoch 11: 0.261949223603\n",
            "Average loss epoch 12: 0.261354105925\n",
            "Average loss epoch 13: 0.259625520826\n",
            "Average loss epoch 14: 0.260097456249\n",
            "Average loss epoch 15: 0.25988333542\n",
            "Average loss epoch 16: 0.256869809177\n",
            "Average loss epoch 17: 0.258672769722\n",
            "Average loss epoch 18: 0.258950105844\n",
            "Average loss epoch 19: 0.25465247662\n",
            "Average loss epoch 20: 0.256647527722\n",
            "Average loss epoch 21: 0.254984129906\n",
            "Average loss epoch 22: 0.253508132463\n",
            "Average loss epoch 23: 0.257030112638\n",
            "Average loss epoch 24: 0.251864070207\n",
            "Average loss epoch 25: 0.253308654613\n",
            "Average loss epoch 26: 0.252361748949\n",
            "Average loss epoch 27: 0.254881316062\n",
            "Average loss epoch 28: 0.253942387852\n",
            "Average loss epoch 29: 0.257254043051\n",
            "Total time: 12.6932930946 seconds\n",
            "Optimization Finished!\n",
            "Accuracy 0.9215\n",
            "Model saved in path: examples/graphs/logistic_reg/lr_model.ckpt\n"
          ],
          "name": "stdout"
        }
      ]
    },
    {
      "cell_type": "markdown",
      "metadata": {
        "id": "Zv4ib15uVcSf",
        "colab_type": "text"
      },
      "source": [
        " There we go – approximately 92% accuracy on the test set, not bad.  We could do a number of things to improve the model, but here we are just interested in exploring TensorFlow. "
      ]
    },
    {
      "cell_type": "markdown",
      "metadata": {
        "id": "fzO-G9gxVcSg",
        "colab_type": "text"
      },
      "source": [
        "#### Why so many saved files??"
      ]
    },
    {
      "cell_type": "markdown",
      "metadata": {
        "id": "H0UWiPklVcSi",
        "colab_type": "text"
      },
      "source": [
        "TensorFlow save method saves three kinds of files because it stores the graph structure separately from the variable values.\n",
        "\n",
        "1. The .meta file describes the saved graph structure.\n",
        "2. .data stores the values of each variable in the graph\n",
        "3. .index identifies the checkpoint"
      ]
    },
    {
      "cell_type": "code",
      "metadata": {
        "id": "XrXVR_24VcSj",
        "colab_type": "code",
        "outputId": "d12ff14e-926f-47b2-a014-5664638a9cd7",
        "colab": {}
      },
      "source": [
        "# start tensorboard for visualization\n",
        "os.system('tensorboard --logdir examples/graphs/')\n",
        "\n",
        "# navigate to http://127.0.1.1:6006"
      ],
      "execution_count": 0,
      "outputs": [
        {
          "output_type": "execute_result",
          "data": {
            "text/plain": [
              "0"
            ]
          },
          "metadata": {
            "tags": []
          },
          "execution_count": 12
        }
      ]
    },
    {
      "cell_type": "markdown",
      "metadata": {
        "id": "M8BSCBWPVcSm",
        "colab_type": "text"
      },
      "source": [
        "More about tensorboard here, https://www.tensorflow.org/programmers_guide/summaries_and_tensorboard."
      ]
    },
    {
      "cell_type": "markdown",
      "metadata": {
        "id": "bvfIhaP8VcSn",
        "colab_type": "text"
      },
      "source": [
        "### References\n",
        "\n",
        "1. [Tensorflow](https://www.tensorflow.org/)\n",
        "2. [Stanford CS 20](https://web.stanford.edu/class/cs20si/)\n",
        "3. [Danijar Hafner Blog](https://danijar.com/what-is-a-tensorflow-session/)\n",
        "4. [Adventures in ML](http://adventuresinmachinelearning.com/python-tensorflow-tutorial/)\n",
        "\n",
        "<span style=\"color:red\">Note: Please <b>DO NOT</b> refer to any code outside for your assignment!</span>"
      ]
    }
  ]
}